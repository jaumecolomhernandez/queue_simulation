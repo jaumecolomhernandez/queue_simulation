{
 "cells": [
  {
   "cell_type": "markdown",
   "metadata": {},
   "source": [
    "# Queue simulation "
   ]
  },
  {
   "cell_type": "markdown",
   "metadata": {},
   "source": [
    "### Theoretical calculations"
   ]
  },
  {
   "cell_type": "code",
   "execution_count": 132,
   "metadata": {},
   "outputs": [],
   "source": [
    "# TBC"
   ]
  },
  {
   "cell_type": "code",
   "execution_count": 138,
   "metadata": {},
   "outputs": [],
   "source": []
  },
  {
   "cell_type": "code",
   "execution_count": 139,
   "metadata": {},
   "outputs": [],
   "source": []
  },
  {
   "cell_type": "markdown",
   "metadata": {},
   "source": [
    "### Sequential simulation"
   ]
  },
  {
   "cell_type": "code",
   "execution_count": 23,
   "metadata": {},
   "outputs": [],
   "source": [
    "import numpy as np\n",
    "import matplotlib.pyplot as plt"
   ]
  },
  {
   "cell_type": "code",
   "execution_count": 24,
   "metadata": {},
   "outputs": [],
   "source": [
    "# Simulation variables\n",
    "timedelta_sec = 1        # resolution for one sec ie. steps for one sec\n",
    "arrival_h = 5.8          # ratio of arrival per hour\n",
    "process_h = 6            # ratio of processing per hour\n",
    "time_total_h = 1000      # hours of simulation"
   ]
  },
  {
   "cell_type": "code",
   "execution_count": 25,
   "metadata": {},
   "outputs": [],
   "source": [
    "# Basic preprocessing\n",
    "sec_resolution = 3600/timedelta_sec\n",
    "arrival_freq = arrival_h/sec_resolution\n",
    "process_sec = int(pow(process_h/sec_resolution,-1))\n",
    "time_total = int(time_total_h*sec_resolution)"
   ]
  },
  {
   "cell_type": "code",
   "execution_count": 26,
   "metadata": {},
   "outputs": [],
   "source": [
    "# Random process calculation\n",
    "mos = np.random.poisson(arrival_freq, size=int(time_total))"
   ]
  },
  {
   "cell_type": "code",
   "execution_count": 36,
   "metadata": {},
   "outputs": [],
   "source": [
    "# SIMULATION\n",
    "buffer = 0\n",
    "occupied = False\n",
    "timestart = -1\n",
    "pl = np.zeros(time_total)\n",
    "enter_queue = np.zeros(process_h*time_total_h)\n",
    "enter_server = np.zeros(process_h*time_total_h)\n",
    "\n",
    "# two pointers\n",
    "process = 0\n",
    "last = 0\n",
    "\n",
    "for step in range(time_total):\n",
    "    buffer += mos[step]\n",
    "    \n",
    "    # waiting time calc\n",
    "    enter_queue[last:(last+mos[step])] = step\n",
    "    last += mos[step]\n",
    "    \n",
    "    # case if server empty\n",
    "    if (not occupied) and (buffer > 0):\n",
    "        \n",
    "        # queue logic\n",
    "        occupied = True\n",
    "        timestart = step\n",
    "        buffer -= 1\n",
    "        \n",
    "        # waiting time calc\n",
    "        enter_server[process] = step \n",
    "        process += 1\n",
    "        \n",
    "    # case if server finishes\n",
    "    elif occupied and ((step-timestart) == process_sec):\n",
    "        occupied = False\n",
    "        \n",
    "    pl[step] = buffer\n",
    "    \n",
    "# waiting time (Nx1)\n",
    "waiting_time = enter_server - enter_queue\n",
    "waiting_time = waiting_time[:process]\n",
    "# queue number (Nx4)\n",
    "step_in = np.arange(0,time_total/sec_resolution,1/sec_resolution)\n",
    "queue_number = np.array([step_in,pl])"
   ]
  },
  {
   "cell_type": "code",
   "execution_count": 37,
   "metadata": {},
   "outputs": [],
   "source": [
    "import os\n",
    "import time"
   ]
  },
  {
   "cell_type": "code",
   "execution_count": 38,
   "metadata": {},
   "outputs": [],
   "source": [
    "# Export files\n",
    "path = os.getcwd()\n",
    "n_folder = os.path.join(path,'exports', str(int(time.time())))\n",
    "wt = os.path.join(n_folder,'waiting_time.csv')\n",
    "qn = os.path.join(n_folder,'queue_number.csv')\n",
    "\n",
    "os.makedirs(n_folder)\n",
    "np.savetxt(wt, waiting_time, delimiter=\",\")\n",
    "np.savetxt(qn, queue_number, delimiter=\",\")"
   ]
  },
  {
   "cell_type": "code",
   "execution_count": 34,
   "metadata": {},
   "outputs": [
    {
     "data": {
      "text/plain": [
       "(4, 3600000)"
      ]
     },
     "execution_count": 34,
     "metadata": {},
     "output_type": "execute_result"
    }
   ],
   "source": [
    "a.shape"
   ]
  },
  {
   "cell_type": "code",
   "execution_count": 21,
   "metadata": {},
   "outputs": [],
   "source": [
    "os.makedirs(n_folder)"
   ]
  },
  {
   "cell_type": "code",
   "execution_count": 18,
   "metadata": {},
   "outputs": [
    {
     "data": {
      "text/plain": [
       "1561852102"
      ]
     },
     "execution_count": 18,
     "metadata": {},
     "output_type": "execute_result"
    }
   ],
   "source": [
    "int(time.time())\n",
    "\n"
   ]
  },
  {
   "cell_type": "code",
   "execution_count": 20,
   "metadata": {},
   "outputs": [
    {
     "data": {
      "text/plain": [
       "'C:\\\\Users\\\\Jaume\\\\Documents\\\\queue_simulation\\\\1561852149'"
      ]
     },
     "execution_count": 20,
     "metadata": {},
     "output_type": "execute_result"
    }
   ],
   "source": [
    "n_folder"
   ]
  },
  {
   "cell_type": "markdown",
   "metadata": {},
   "source": [
    "#### Queue ocupation"
   ]
  },
  {
   "cell_type": "code",
   "execution_count": 111,
   "metadata": {},
   "outputs": [
    {
     "data": {
      "text/plain": [
       "[<matplotlib.lines.Line2D at 0x22703614128>]"
      ]
     },
     "execution_count": 111,
     "metadata": {},
     "output_type": "execute_result"
    },
    {
     "data": {
      "image/png": "[encoded data removed]",
      "text/plain": [
       "<Figure size 432x288 with 1 Axes>"
      ]
     },
     "metadata": {
      "needs_background": "light"
     },
     "output_type": "display_data"
    }
   ],
   "source": [
    "# (in seconds)\n",
    "plt.plot(a[0],a[3])"
   ]
  },
  {
   "cell_type": "code",
   "execution_count": 112,
   "metadata": {},
   "outputs": [
    {
     "data": {
      "text/plain": [
       "11.489404444444444"
      ]
     },
     "execution_count": 112,
     "metadata": {},
     "output_type": "execute_result"
    }
   ],
   "source": [
    "# Mean number in queue\n",
    "sum(a[3]) / len(a[3]) "
   ]
  },
  {
   "cell_type": "markdown",
   "metadata": {},
   "source": [
    "#### Waiting time"
   ]
  },
  {
   "cell_type": "code",
   "execution_count": 113,
   "metadata": {},
   "outputs": [
    {
     "data": {
      "text/plain": [
       "[<matplotlib.lines.Line2D at 0x227034af0b8>]"
      ]
     },
     "execution_count": 113,
     "metadata": {},
     "output_type": "execute_result"
    },
    {
     "data": {
      "image/png": "[encoded data removed]",
      "text/plain": [
       "<Figure size 432x288 with 1 Axes>"
      ]
     },
     "metadata": {
      "needs_background": "light"
     },
     "output_type": "display_data"
    }
   ],
   "source": [
    "# (in seconds)\n",
    "plt.plot(waiting_time)"
   ]
  },
  {
   "cell_type": "code",
   "execution_count": 117,
   "metadata": {},
   "outputs": [
    {
     "data": {
      "text/plain": [
       "118.1956773159281"
      ]
     },
     "execution_count": 117,
     "metadata": {},
     "output_type": "execute_result"
    }
   ],
   "source": [
    "# Mean waiting time in queue\n",
    "sum(waiting_time)/len(waiting_time)/60"
   ]
  },
  {
   "cell_type": "markdown",
   "metadata": {},
   "source": [
    "### Vectorization"
   ]
  },
  {
   "cell_type": "code",
   "execution_count": 25,
   "metadata": {},
   "outputs": [
    {
     "data": {
      "text/plain": [
       "600.0"
      ]
     },
     "execution_count": 25,
     "metadata": {},
     "output_type": "execute_result"
    }
   ],
   "source": [
    "#VECTORIZATION\n",
    "step_in = np.arange(0,time_total/3600,1/3600)\n",
    "a = np.array([step_in, mos, mos.cumsum()])"
   ]
  },
  {
   "cell_type": "markdown",
   "metadata": {},
   "source": [
    "Definitely not possible"
   ]
  },
  {
   "cell_type": "code",
   "execution_count": null,
   "metadata": {},
   "outputs": [],
   "source": []
  }
 ],
 "metadata": {
  "kernelspec": {
   "display_name": "Python 3",
   "language": "python",
   "name": "python3"
  },
  "language_info": {
   "codemirror_mode": {
    "name": "ipython",
    "version": 3
   },
   "file_extension": ".py",
   "mimetype": "text/x-python",
   "name": "python",
   "nbconvert_exporter": "python",
   "pygments_lexer": "ipython3",
   "version": "3.7.3"
  }
 },
 "nbformat": 4,
 "nbformat_minor": 2
}
